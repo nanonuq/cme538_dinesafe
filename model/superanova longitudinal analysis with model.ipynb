{
 "cells": [
  {
   "cell_type": "code",
   "execution_count": 3,
   "id": "23a0fd2f-ae64-4d6c-b2fb-76ba91059940",
   "metadata": {},
   "outputs": [],
   "source": [
    "import os\n",
    "import re\n",
    "import datetime\n",
    "import pandas as pd\n",
    "import seaborn as sns\n",
    "import matplotlib.pylab as plt\n",
    "import xml.etree.ElementTree as ET\n",
    "import json\n",
    "import numpy as np\n",
    "from xmltodict import parse\n",
    "from collections import ChainMap"
   ]
  },
  {
   "cell_type": "markdown",
   "id": "b6b7c09e-6a73-49d4-bbca-936f755e13a8",
   "metadata": {},
   "source": [
    "## Import Data"
   ]
  },
  {
   "cell_type": "code",
   "execution_count": 4,
   "id": "10cbd4e3-15e4-46dd-8d7f-98f500ce477c",
   "metadata": {},
   "outputs": [],
   "source": [
    "#'2022-02260 Requester Copy.xml' is from the FOIA request\n",
    "raw_data = pd.read_xml('2022-02260 Requester Copy.xml',encoding='latin1')\n",
    "chains = pd.read_csv('dinesafe 2019-04-08 chains.csv', encoding='latin-1', dtype={'Establishment ID':'int','Inspection ID':'int','Company/Franchise':'str','Name':'str','Type':'str','Address':'str','Lat':'float','Long':'float','Status':'str','Minimum inspections per year':'int','Infraction details':'str','Inspection date':'str','Severity':'str','Action':'str','Court outcome':'str','Amount fined':'float'})"
   ]
  },
  {
   "cell_type": "code",
   "execution_count": 5,
   "id": "9eda207d-f7d6-4efd-873b-516ad82c14a4",
   "metadata": {},
   "outputs": [
    {
     "data": {
      "text/plain": [
       "36378"
      ]
     },
     "execution_count": 5,
     "metadata": {},
     "output_type": "execute_result"
    }
   ],
   "source": [
    "len(raw_data['ESTABLISHMENT_ID'].unique())"
   ]
  },
  {
   "cell_type": "code",
   "execution_count": 762,
   "id": "cb810933-2ef2-4fe5-b830-8c8f5e011cbc",
   "metadata": {},
   "outputs": [
    {
     "name": "stdout",
     "output_type": "stream",
     "text": [
      "<class 'pandas.core.frame.DataFrame'>\n",
      "RangeIndex: 733495 entries, 0 to 733494\n",
      "Data columns (total 16 columns):\n",
      " #   Column                       Non-Null Count   Dtype         \n",
      "---  ------                       --------------   -----         \n",
      " 0   ROW_ID                       733495 non-null  int64         \n",
      " 1   ESTABLISHMENT_ID             733495 non-null  int64         \n",
      " 2   INSPECTION_ID                733495 non-null  int64         \n",
      " 3   ESTABLISHMENT_NAME           733495 non-null  object        \n",
      " 4   ESTABLISHMENTTYPE            733495 non-null  object        \n",
      " 5   ESTABLISHMENT_ADDRESS        733495 non-null  object        \n",
      " 6   LATITUDE                     733495 non-null  float64       \n",
      " 7   LONGITUDE                    733495 non-null  float64       \n",
      " 8   ESTABLISHMENT_STATUS         733495 non-null  object        \n",
      " 9   MINIMUM_INSPECTIONS_PERYEAR  733495 non-null  float64       \n",
      " 10  INFRACTION_DETAILS           733495 non-null  object        \n",
      " 11  INSPECTION_DATE              733495 non-null  datetime64[ns]\n",
      " 12  SEVERITY                     733495 non-null  object        \n",
      " 13  ACTION                       733495 non-null  object        \n",
      " 14  COURT_OUTCOME                733495 non-null  object        \n",
      " 15  AMOUNT_FINED                 733495 non-null  object        \n",
      "dtypes: datetime64[ns](1), float64(3), int64(3), object(9)\n",
      "memory usage: 89.5+ MB\n"
     ]
    }
   ],
   "source": [
    "data = raw_data.fillna(0) #fill in NA values\n",
    "data['INSPECTION_DATE']=pd.to_datetime(data['INSPECTION_DATE'])\n",
    "data.info()"
   ]
  },
  {
   "cell_type": "markdown",
   "id": "29de9b2c-16bd-44a3-a5bc-e749c2094622",
   "metadata": {},
   "source": [
    "## Exploratory Data Analysis - Inspection frequency"
   ]
  },
  {
   "cell_type": "code",
   "execution_count": 763,
   "id": "39c43cd3-96e7-41b2-88b0-1d579b719516",
   "metadata": {},
   "outputs": [
    {
     "data": {
      "text/plain": [
       "36378"
      ]
     },
     "execution_count": 763,
     "metadata": {},
     "output_type": "execute_result"
    }
   ],
   "source": [
    "first_insp = data.groupby('ESTABLISHMENT_ID')['INSPECTION_DATE'].min()\n",
    "last_insp = data.groupby('ESTABLISHMENT_ID')['INSPECTION_DATE'].max()\n",
    "#how many unique entities are there?\n",
    "last_insp.count()"
   ]
  },
  {
   "cell_type": "code",
   "execution_count": 764,
   "id": "2c8017f7-1252-4a28-9a59-97d288374be3",
   "metadata": {},
   "outputs": [
    {
     "data": {
      "text/plain": [
       "<AxesSubplot:xlabel='INSPECTION_DATE', ylabel='Count'>"
      ]
     },
     "execution_count": 764,
     "metadata": {},
     "output_type": "execute_result"
    },
    {
     "data": {
      "image/png": "[encoded data removed]",
      "text/plain": [
       "<Figure size 432x288 with 1 Axes>"
      ]
     },
     "metadata": {
      "needs_background": "light"
     },
     "output_type": "display_data"
    }
   ],
   "source": [
    "#plot of days between inspections\n",
    "id_date_group = data.groupby(['ESTABLISHMENT_ID','INSPECTION_DATE'])\n",
    "id_group = data.groupby(['ESTABLISHMENT_ID'])\n",
    "#id_date_group['INSPECTION_DATE'].count().unique() #wow, who had 28 inspections?\n",
    "#sns.histplot(id_date_group['DATE'].count()) #vast majority have only 1-2 inspections\n",
    "date_range = id_group['INSPECTION_DATE'].max() - id_group['INSPECTION_DATE'].min()\n",
    "days_per_insp = date_range/id_date_group['INSPECTION_DATE'].count()//pd.Timedelta('1 days') #average days between inspections\n",
    "day_insp_type = pd.concat([(id_group['ESTABLISHMENTTYPE'].first().str.contains('Take out|Restaurant|food court',case=False)),days_per_insp.groupby('ESTABLISHMENT_ID').min()],axis='columns')\n",
    "sns.histplot(day_insp_type,x='INSPECTION_DATE',hue='ESTABLISHMENTTYPE')"
   ]
  },
  {
   "cell_type": "code",
   "execution_count": 765,
   "id": "13e16a05-2ec4-4cc7-a277-72bd585a8ca0",
   "metadata": {},
   "outputs": [
    {
     "data": {
      "text/plain": [
       "14460"
      ]
     },
     "execution_count": 765,
     "metadata": {},
     "output_type": "execute_result"
    }
   ],
   "source": [
    "#how many had their last inspection within a year?\n",
    "(last_insp>pd.to_datetime('2021-12-31',yearfirst=True)).sum()"
   ]
  },
  {
   "cell_type": "code",
   "execution_count": 766,
   "id": "b4cd5541-3b61-46be-8e05-d9bb2e2185bc",
   "metadata": {},
   "outputs": [
    {
     "data": {
      "image/png": "[encoded data removed]",
      "text/plain": [
       "<Figure size 864x288 with 1 Axes>"
      ]
     },
     "metadata": {
      "needs_background": "light"
     },
     "output_type": "display_data"
    }
   ],
   "source": [
    "#plot inspections per month\n",
    "unique_inspections=id_date_group.first()\n",
    "monthly_inspections = unique_inspections.resample('M',origin='2017-01-01',level='INSPECTION_DATE').count()\n",
    "monthly_inspections.sum()\n",
    "inspections_frequency = sns.catplot(data=monthly_inspections.reset_index(),x='INSPECTION_DATE',y='ESTABLISHMENT_NAME',kind='bar',height=4,aspect=3,color='blue')\n",
    "inspections_frequency.set(xlabel='Month',ylabel='Number of inspections',xticks=range(264))\n",
    "for ax in inspections_frequency.axes.flat:\n",
    "    labels = ax.get_xticklabels()\n",
    "    labels_f = []\n",
    "    month = 0\n",
    "    for label in labels:\n",
    "        if month %12 == 0:\n",
    "            labels_f.append(pd.to_datetime(label.get_text()).strftime('%Y'))\n",
    "        else: labels_f.append('')\n",
    "        month += 1\n",
    "    ax.set_xticklabels(labels_f, rotation=90) "
   ]
  },
  {
   "cell_type": "markdown",
   "id": "950a652d-3790-4836-b58d-60c8202c3d1e",
   "metadata": {},
   "source": [
    "## Exploratory Data Analysis - Establishment Counts and Inspection Counts"
   ]
  },
  {
   "cell_type": "code",
   "execution_count": 767,
   "id": "1383f0be-b54a-430e-8ef2-4141997bb27c",
   "metadata": {},
   "outputs": [
    {
     "data": {
      "text/plain": [
       "<matplotlib.legend.Legend at 0x256e9cc5430>"
      ]
     },
     "execution_count": 767,
     "metadata": {},
     "output_type": "execute_result"
    },
    {
     "data": {
      "image/png": "[encoded data removed]",
      "text/plain": [
       "<Figure size 432x288 with 1 Axes>"
      ]
     },
     "metadata": {
      "needs_background": "light"
     },
     "output_type": "display_data"
    }
   ],
   "source": [
    "#count inspections for actual restaurants and takeout\n",
    "is_restaurant = id_group.first()['ESTABLISHMENTTYPE'].str.contains('Food Take Out|Restaurant|Food Court')\n",
    "resto_unique_inspections = unique_inspections.join(is_restaurant,rsuffix='.resto')\n",
    "resto_unique_inspections = resto_unique_inspections.loc[resto_unique_inspections['ESTABLISHMENTTYPE.resto']==True,:]\n",
    "#resto_unique_inspections.info()\n",
    "#this one does it proportionally\n",
    "#restaurant_types = pd.DataFrame([[resto_unique_inspections['INSPECTION_ID'].count()/unique_inspections['INSPECTION_ID'].count(),unique_inspections['INSPECTION_ID'].count()/unique_inspections['INSPECTION_ID'].count()],\n",
    "#                                 [is_restaurant.sum()/last_insp.count(),last_insp.count()/last_insp.count()]],columns=['Restaurants and Take-out','All Entities'],index=['Inspections','Count'])\n",
    "restaurant_types = pd.DataFrame([[resto_unique_inspections['INSPECTION_ID'].count(),unique_inspections['INSPECTION_ID'].count()],[is_restaurant.sum(),last_insp.count()]],columns=['Restaurants and Take-out','All Entities'],index=['Inspections','Count'])\n",
    "plt.figure(figsize=(6,4))\n",
    "dinesafe_composition = plt.bar(restaurant_types.index,restaurant_types.iloc[:,1])\n",
    "plt.bar(restaurant_types.index,restaurant_types.iloc[:,0])\n",
    "plt.legend(['All Other Entities','Restaurants and Take-Out'])"
   ]
  },
  {
   "cell_type": "code",
   "execution_count": 768,
   "id": "bcee515e-bb13-4ab8-b60d-bf4ceb57e0fb",
   "metadata": {},
   "outputs": [
    {
     "data": {
      "image/png": "[encoded data removed]",
      "text/plain": [
       "<Figure size 432x288 with 1 Axes>"
      ]
     },
     "metadata": {
      "needs_background": "light"
     },
     "output_type": "display_data"
    }
   ],
   "source": [
    "#plot count of establishment types\n",
    "establishment_type_count = id_group.first().groupby('ESTABLISHMENTTYPE')['ESTABLISHMENT_NAME'].count().sort_values(ascending=False)\n",
    "top8=pd.concat([establishment_type_count.iloc[0:8],pd.Series(establishment_type_count.iloc[9:].sum(),index=['All others'])]).rename('top8')\n",
    "\n",
    "establishment_type_plot = plt.bar(top8.index,top8)\n",
    "plt.tick_params(axis='x', rotation=90)"
   ]
  },
  {
   "cell_type": "code",
   "execution_count": 769,
   "id": "ac3cdf4e-e043-4c76-9159-7e38bfd37c83",
   "metadata": {},
   "outputs": [],
   "source": [
    "#check out these restaurants for testing:\n",
    "#resto_unique_inspections.loc[resto_unique_inspections['ESTABLISHMENT_NAME'].str.contains('4c bro',case=False)==True,:]"
   ]
  },
  {
   "cell_type": "markdown",
   "id": "45a53d54-a99d-453d-a8e2-0f0569641cee",
   "metadata": {},
   "source": [
    "## Exploratory Data Analysis - Restaurant Survival Curve"
   ]
  },
  {
   "cell_type": "code",
   "execution_count": 772,
   "id": "4ec6968f-cdd7-4fc3-b299-c9b4304e9f36",
   "metadata": {},
   "outputs": [
    {
     "data": {
      "text/plain": [
       "<bound method Index.unique of Int64Index([ 1223438,  9000002,  9000029,  9000109,  9000145,  9000214,\n",
       "             9000228,  9000265,  9000278,  9000286,\n",
       "            ...\n",
       "            10759065, 10759069, 10759216, 10759697, 10761364, 10761648,\n",
       "            10761653, 10762366, 10764681, 10765468],\n",
       "           dtype='int64', name='ESTABLISHMENT_ID', length=11584)>"
      ]
     },
     "execution_count": 772,
     "metadata": {},
     "output_type": "execute_result"
    }
   ],
   "source": [
    "#how can we tell which restaurants have gone out of business?\n",
    "#easy way: use status= out of business\n",
    "#another way: use last inspection was before 2020\n",
    "#another way: another restaurant has replaced it at the same address\n",
    "out_of_business = resto_unique_inspections.loc[resto_unique_inspections['ESTABLISHMENT_STATUS'].str.contains('out of business',case=False)==True,:]\n",
    "out_of_business.index.unique() #11584 entries\n",
    "out_of_business.reset_index(level=1).index.unique #11584 entries\n",
    "#same length, so there are no duplicates here - restaurants don't go out of business twice"
   ]
  },
  {
   "cell_type": "code",
   "execution_count": 773,
   "id": "0d4dc6fb-d0ce-4713-941e-1271ba2cb1ac",
   "metadata": {},
   "outputs": [
    {
     "data": {
      "text/plain": [
       "<AxesSubplot:xlabel='INSPECTION_DATE.last', ylabel='Count'>"
      ]
     },
     "execution_count": 773,
     "metadata": {},
     "output_type": "execute_result"
    },
    {
     "data": {
      "image/png": "[encoded data removed]",
      "text/plain": [
       "<Figure size 432x288 with 1 Axes>"
      ]
     },
     "metadata": {
      "needs_background": "light"
     },
     "output_type": "display_data"
    }
   ],
   "source": [
    "#now see the last inspections of restaurants are that still in business\n",
    "unique_resto = id_group.last().loc[is_restaurant.loc[is_restaurant==True].index]\n",
    "active_resto = unique_resto.drop(out_of_business.reset_index(level=1).index)\n",
    "active_resto_last = active_resto.join(last_insp,rsuffix='.last')\n",
    "sns.histplot(active_resto_last,x='INSPECTION_DATE.last')"
   ]
  },
  {
   "cell_type": "code",
   "execution_count": 948,
   "id": "55cf6e0b-b747-435f-aee5-cb15f50db16d",
   "metadata": {},
   "outputs": [
    {
     "data": {
      "image/png": "[encoded data removed]",
      "text/plain": [
       "<Figure size 432x288 with 1 Axes>"
      ]
     },
     "metadata": {
      "needs_background": "light"
     },
     "output_type": "display_data"
    }
   ],
   "source": [
    "#how did time between inspections change with Covid?\n",
    "#check two years before covid, excluding out-of-business during that time\n",
    "date_range_2019 = data.loc[(data['INSPECTION_DATE']>pd.to_datetime('2017-12-31'))&(data['INSPECTION_DATE']<pd.to_datetime('2020-01-01'))&(data['ESTABLISHMENT_STATUS']!='Out of Business')].groupby('ESTABLISHMENT_ID')\n",
    "insp_range_2019 = date_range_2019['INSPECTION_DATE'].max()-date_range_2019['INSPECTION_DATE'].min()\n",
    "days_per_insp = insp_range_2019/date_range_2019['INSPECTION_DATE'].count()//pd.Timedelta('1 days') #average days between inspections\n",
    "#inspection_period_2019 = sns.histplot(days_per_insp.loc[is_restaurant]) #all restaurants\n",
    "#days_per_insp.median() #66\n",
    "#now check post-covid, using the cohort of dead restaurants because we want to check if their inspection rate is significantly different\n",
    "date_range_2020 = data.loc[(data['INSPECTION_DATE']>pd.to_datetime('2020-03-17'))&(data['ESTABLISHMENT_STATUS']=='Out of Business')].groupby('ESTABLISHMENT_ID')\n",
    "last_insp_precovid = data.loc[data['INSPECTION_DATE']<=pd.to_datetime('2020-03-17')].groupby('ESTABLISHMENT_ID')['INSPECTION_DATE'].last()\n",
    "\n",
    "#for the ones with only one inspection, use the last pre-covid inspection date\n",
    "one_insp_covid = date_range_2020['INSPECTION_DATE'].count() == 1\n",
    "#list of those with multiple covid inspections 108\n",
    "mult_insp_covid = one_insp_covid.loc[one_insp_covid==False] #108\n",
    "#3033 list of previous inspection prior to covid 3033 should be 3173 - new restaurants\n",
    "last_insp_precovid = last_insp_precovid.reset_index().loc[last_insp_precovid.reset_index()['ESTABLISHMENT_ID'].isin(one_insp_covid.reset_index()['ESTABLISHMENT_ID'])].set_index('ESTABLISHMENT_ID')\n",
    "date_range_one_insp = pd.concat([last_insp_precovid['INSPECTION_DATE'],date_range_2020['INSPECTION_DATE'].first().loc[mult_insp_covid.index]])\n",
    "insp_range_2020 = date_range_2020['INSPECTION_DATE'].max()-date_range_one_insp\n",
    "days_per_insp = insp_range_2020/date_range_2020['INSPECTION_DATE'].count()//pd.Timedelta('1 days') #average days between inspections\n",
    "inspection_period_2020 = sns.histplot(days_per_insp.loc[is_restaurant])\n",
    "#so the majority had not been inspected in 2+ years\n",
    "\n",
    "#days_per_insp.median() #0 - most have been inspected only once in the years since in the almost 3 years - so it's hard to tell\n",
    "#days_per_insp.count() #14904 vs 19507 out of 26000 total and 10901 active"
   ]
  },
  {
   "cell_type": "code",
   "execution_count": 775,
   "id": "93a86d5e-2b96-4e2c-9590-f8b83ca00660",
   "metadata": {},
   "outputs": [
    {
     "name": "stdout",
     "output_type": "stream",
     "text": [
      "1051 inspected before 2019, 10901 inspected during and after 2019\n"
     ]
    },
    {
     "data": {
      "text/plain": [
       "<AxesSubplot:xlabel='INSPECTION_DATE.last', ylabel='Count'>"
      ]
     },
     "execution_count": 775,
     "metadata": {},
     "output_type": "execute_result"
    },
    {
     "data": {
      "image/png": "[encoded data removed]",
      "text/plain": [
       "<Figure size 432x288 with 1 Axes>"
      ]
     },
     "metadata": {
      "needs_background": "light"
     },
     "output_type": "display_data"
    }
   ],
   "source": [
    "#the majority were last inspected in 2022, but a number still haven't been inspected starting in 2019\n",
    "#so let's just assume that anything last inspected before 2019 has gone out of business\n",
    "before_2019 = active_resto_last['INSPECTION_DATE.last']<pd.to_datetime('2019-01-01')\n",
    "print('{} inspected before 2019, {} inspected during and after 2019'.format(before_2019.sum(),active_resto_last['INSPECTION_DATE.last'].count()-before_2019.sum()))\n",
    "#add these businesses to the out-of-business list\n",
    "out_of_business = pd.concat([out_of_business.reset_index()['ESTABLISHMENT_ID'],before_2019.loc[before_2019==True].reset_index()['ESTABLISHMENT_ID']]).reset_index(drop=True)\n",
    "#and check the remainder\n",
    "active_resto = unique_resto.drop(out_of_business)\n",
    "active_resto_last = active_resto.join(last_insp,rsuffix='.last')\n",
    "sns.histplot(active_resto_last,x='INSPECTION_DATE.last')"
   ]
  },
  {
   "cell_type": "code",
   "execution_count": 776,
   "id": "9b7a44b5-f171-4e5d-9e0f-458461e1f915",
   "metadata": {},
   "outputs": [
    {
     "data": {
      "text/plain": [
       "ESTABLISHMENT_ADDRESS\n",
       "1006 DUNDAS ST W        10671237\n",
       "1010 WILSON AVE         10727501\n",
       "1086 ISLINGTON AVE      10677030\n",
       "1120 MARTIN GROVE RD    10274551\n",
       "124 BELFIELD RD          9003274\n",
       "                          ...   \n",
       "78 GERRARD ST W         10724171\n",
       "799 BRIMLEY RD          10518927\n",
       "852 WILSON AVE          10537577\n",
       "881 ST CLAIR AVE W      10635548\n",
       "971 KINGSTON RD         10406629\n",
       "Name: first, Length: 71, dtype: int64"
      ]
     },
     "execution_count": 776,
     "metadata": {},
     "output_type": "execute_result"
    }
   ],
   "source": [
    "#great, now see if anything on the remaining active restaurant list has been replaced\n",
    "#we want to check if the following conditions are true:\n",
    "#1: another restaurant is at the same address\n",
    "#2: it is not part of a food court\n",
    "#3: the second restaurant has its first inspection after the first restaurant has its last inspection\n",
    "\n",
    "#let's start with #1: check if the address is shared\n",
    "shared_or_replaced = active_resto.groupby('ESTABLISHMENT_ADDRESS').count()\n",
    "shared_or_replaced = shared_or_replaced.loc[shared_or_replaced['ESTABLISHMENT_NAME']>1] #about 1100 restaurants\n",
    "#now check #2: \n",
    "#let's assume that if the address was shared in 2017 and 2018, then it is a shared location. this might include very high turnover locations\n",
    "#shared addresses in 2017\n",
    "food_courts_2017 = resto_unique_inspections.reset_index(level=1)\n",
    "food_courts_2017 = food_courts_2017.loc[(food_courts_2017['INSPECTION_DATE']<pd.to_datetime('2018-01-01')) & (food_courts_2017['INSPECTION_DATE']>=pd.to_datetime('2017-01-01'))]\n",
    "food_courts_2017 = food_courts_2017.groupby('ESTABLISHMENT_ADDRESS').count()\n",
    "food_courts_2017 = food_courts_2017.loc[food_courts_2017['ESTABLISHMENT_NAME']>1]\n",
    "#shared addresses in 2018\n",
    "food_courts_2018 = resto_unique_inspections.reset_index(level=1)\n",
    "food_courts_2018 = food_courts_2018.loc[(food_courts_2018['INSPECTION_DATE']<pd.to_datetime('2019-01-01')) & (food_courts_2018['INSPECTION_DATE']>=pd.to_datetime('2018-01-01'))]\n",
    "food_courts_2018 = food_courts_2018.groupby('ESTABLISHMENT_ADDRESS').count()\n",
    "food_courts_2018 = food_courts_2018.loc[food_courts_2018['ESTABLISHMENT_NAME']>1]\n",
    "#shared addresses in both years\n",
    "food_courts = food_courts_2018.loc[food_courts_2018.index.isin(food_courts_2017.index)]\n",
    "#drop addresses from food courts\n",
    "shared = shared_or_replaced.index.isin(food_courts.index)\n",
    "replaced = shared_or_replaced.loc[~shared] #220 rows\n",
    "\n",
    "#now we have a list of restaurants that may have been replaced\n",
    "#let's drop anything with more than two restaurants registered at the address, because a random validation indicates that they are new food courts\n",
    "replaced = replaced.loc[replaced['ROW_ID']<3]\n",
    "\n",
    "#let's now tackle #3: first inspection and last inspection do not overlap\n",
    "overlap_resto = active_resto.join(replaced,on='ESTABLISHMENT_ADDRESS',how='right',rsuffix='.r')\n",
    "#add column showing ID of restaurant sharing the location with them\n",
    "overlap_resto = pd.concat([overlap_resto.reset_index().groupby('ESTABLISHMENT_ADDRESS').first()['ESTABLISHMENT_ID'].rename('first'),\n",
    "                           overlap_resto.reset_index().groupby('ESTABLISHMENT_ADDRESS').last()['ESTABLISHMENT_ID'].rename('last')],axis='columns')\n",
    "overlap_resto = pd.concat([overlap_resto.join(first_insp,on='first',rsuffix='.first').rename(columns={'INSPECTION_DATE':'first_insp1'}),\n",
    "                           overlap_resto.join(last_insp,on='first',rsuffix='.first').rename(columns={'INSPECTION_DATE':'first_insp2'})['first_insp2'],\n",
    "                           overlap_resto.join(first_insp,on='last',rsuffix='.first').rename(columns={'INSPECTION_DATE':'last_insp1'})['last_insp1'],\n",
    "                           overlap_resto.join(last_insp,on='last',rsuffix='.first').rename(columns={'INSPECTION_DATE':'last_insp2'})['last_insp2']],axis='columns')\n",
    "#find non-overlapping restaurants:\n",
    "replaced = overlap_resto.loc[overlap_resto['last_insp1']>overlap_resto['first_insp2']]\n",
    "replaced['first'] #71 replaced"
   ]
  },
  {
   "cell_type": "code",
   "execution_count": 777,
   "id": "87d77a82-c953-4b12-b662-8c3f719b6e4f",
   "metadata": {},
   "outputs": [],
   "source": [
    "out_of_business = pd.concat([out_of_business,replaced['first']]).reset_index(drop=True)\n",
    "#great, so now we have a list of dead restaurants about 16,000 long\n",
    "#let's plot their lifespans: time between first and last inspection"
   ]
  },
  {
   "cell_type": "code",
   "execution_count": 778,
   "id": "1d045318-9220-4a92-8759-8a01a231086f",
   "metadata": {},
   "outputs": [
    {
     "data": {
      "image/png": "[encoded data removed]",
      "text/plain": [
       "<Figure size 432x288 with 1 Axes>"
      ]
     },
     "metadata": {
      "needs_background": "light"
     },
     "output_type": "display_data"
    }
   ],
   "source": [
    "lifespans_dead = last_insp[out_of_business]-first_insp[out_of_business]\n",
    "#don't forget that currently-alive restaurants have a lifespan as well, this is just a list of dead restaurants\n",
    "#have to convert it to days otherwise run out of memory trying to hist nanoseconds\n",
    "lifespans_dead_plot = sns.histplot(lifespans_dead.dt.days)\n",
    "#okay, but this is a histogram of lifespans, we need to convert it to a cumulative survival curve\n",
    "#day 0 is the sum of all restaurants with lifespan >0, day 1000 is the sum of all restaurants with lifespan > 1000, etc\n",
    "survival_curve_base = []\n",
    "for x in range(8000): \n",
    "    survival_curve_base.append([x,lifespans_dead.loc[lifespans_dead.dt.days>x].count()])\n",
    "survival_curve_base = pd.DataFrame(survival_curve_base)"
   ]
  },
  {
   "cell_type": "code",
   "execution_count": 779,
   "id": "16ad821b-eaf9-464d-8f0c-b7ea0c1f7567",
   "metadata": {},
   "outputs": [
    {
     "data": {
      "text/plain": [
       "0.869894465479739"
      ]
     },
     "execution_count": 779,
     "metadata": {},
     "output_type": "execute_result"
    },
    {
     "data": {
      "image/png": "[encoded data removed]",
      "text/plain": [
       "<Figure size 648x432 with 1 Axes>"
      ]
     },
     "metadata": {
      "needs_background": "light"
     },
     "output_type": "display_data"
    }
   ],
   "source": [
    "survival_curve_base = survival_curve_base.rename({0:'Days',1:'Restaurants'},axis='columns')\n",
    "fig, survival_plot = plt.subplots(figsize=(9,6))\n",
    "survival_plot.set(xlabel='Years',ylabel='Restaurants (%)',title='15% of restaurants that fail, fail in their first year',xticks=range(23),yticks=np.multiply(range(11),10))\n",
    "survival_plot.plot(survival_curve_base['Days']/365.25,survival_curve_base['Restaurants']/survival_curve_base['Restaurants'].max()*100,linewidth=1.0)\n",
    "survival_plot.grid(color='#eeeeee')\n",
    "survival_curve_base.loc[365,'Restaurants']/survival_curve_base['Restaurants'].max()"
   ]
  },
  {
   "cell_type": "code",
   "execution_count": 780,
   "id": "5dc906df-27a8-4704-905f-a48d9a9e31f2",
   "metadata": {},
   "outputs": [
    {
     "data": {
      "image/png": "[encoded data removed]",
      "text/plain": [
       "<Figure size 432x288 with 1 Axes>"
      ]
     },
     "metadata": {
      "needs_background": "light"
     },
     "output_type": "display_data"
    }
   ],
   "source": [
    "#how long have currently-alive restaurants lasted for?\n",
    "out_of_business = out_of_business.rename('out_of_business')\n",
    "is_restaurant.loc[is_restaurant==True].reset_index()['ESTABLISHMENT_ID'].isin(out_of_business.rename('out_of_business'))\n",
    "#12120 True... but should be 16159\n",
    "out_of_business.isin(is_restaurant.index).sum() #16159 as expected\n",
    "in_business = is_restaurant.loc[is_restaurant==True]\n",
    "in_business = in_business.drop(out_of_business) #22451->10331 after drop, losing 12120 businesses. not 16159.\n",
    "#so what is not being counted?\n",
    "out_of_business.duplicated().sum() #4039 are duplicated, explaining the discrepancy\n",
    "lifespans_alive = last_insp[in_business.index]-first_insp[in_business.index]\n",
    "#don't forget that currently-alive restaurants have a lifespan as well, this is just a list of dead restaurants\n",
    "#have to convert it to days otherwise run out of memory trying to hist nanoseconds\n",
    "lifespans_alive_plot = sns.histplot(lifespans_alive.dt.days)"
   ]
  },
  {
   "cell_type": "code",
   "execution_count": 781,
   "id": "31b3d435-44d8-40a3-bfa4-0e272feeb9a1",
   "metadata": {},
   "outputs": [
    {
     "data": {
      "text/plain": [
       "0.9099989260015036"
      ]
     },
     "execution_count": 781,
     "metadata": {},
     "output_type": "execute_result"
    },
    {
     "data": {
      "image/png": "[encoded data removed]",
      "text/plain": [
       "<Figure size 648x432 with 1 Axes>"
      ]
     },
     "metadata": {
      "needs_background": "light"
     },
     "output_type": "display_data"
    }
   ],
   "source": [
    "#so some have lasted the whole length of the dataset - still alive!\n",
    "#let's add them to the survival curve\n",
    "#plot the number of active restaurants by age to determine our cutoff for long-term survivors\n",
    "age_curve = []\n",
    "for x in range(8000): \n",
    "    age_curve.append([x,lifespans_alive.loc[lifespans_alive.dt.days>x].count()])\n",
    "age_curve = pd.DataFrame(age_curve)\n",
    "age_curve = age_curve.rename({0:'Days',1:'Restaurants'},axis='columns')\n",
    "fig, age_plot = plt.subplots(figsize=(9,6))\n",
    "age_plot.set(xlabel='Years',ylabel='Restaurants (%)',title='Most restaurants are under 6 years old',xticks=range(23),yticks=np.multiply(range(11),10))\n",
    "age_plot.plot(age_curve['Days']/365.25,age_curve['Restaurants']/age_curve['Restaurants'].max()*100,linewidth=1.0)\n",
    "age_plot.grid(color='#eeeeee')\n",
    "age_curve.loc[365,'Restaurants']/age_curve['Restaurants'].max()"
   ]
  },
  {
   "cell_type": "code",
   "execution_count": 782,
   "id": "2c002886-391e-4d59-be71-506892d244da",
   "metadata": {},
   "outputs": [
    {
     "data": {
      "text/plain": [
       "407"
      ]
     },
     "execution_count": 782,
     "metadata": {},
     "output_type": "execute_result"
    }
   ],
   "source": [
    "#so the bend seems to be at 21 years = 7665 days\n",
    "age_curve.loc[365*21,'Restaurants']\n",
    "#there are 388 restaurants that have survived up to 21 years - so add that as the base of the survival curve"
   ]
  },
  {
   "cell_type": "code",
   "execution_count": 783,
   "id": "7b3a2e07-7bfa-4da0-86f4-4cb247b9bfe5",
   "metadata": {},
   "outputs": [
    {
     "data": {
      "text/plain": [
       "0.8422776911076443"
      ]
     },
     "execution_count": 783,
     "metadata": {},
     "output_type": "execute_result"
    },
    {
     "data": {
      "image/png": "[encoded data removed]",
      "text/plain": [
       "<Figure size 648x432 with 1 Axes>"
      ]
     },
     "metadata": {
      "needs_background": "light"
     },
     "output_type": "display_data"
    }
   ],
   "source": [
    "survival_curve_base = survival_curve_base.rename({0:'Days',1:'Restaurants'},axis='columns')\n",
    "fig, survival_plot2 = plt.subplots(figsize=(9,6))\n",
    "#title: 17% of restaurants fail in their first year\n",
    "#title: Age doesn\\'t matter much: chances of failure remain constant\n",
    "survival_plot2.set(xlabel='Years',ylabel='Restaurants (%)',title='',xticks=range(23),yticks=np.multiply(range(11),10))\n",
    "survival_plot2.plot(survival_curve_base['Days']/365.25,\n",
    "                    (survival_curve_base['Restaurants']+age_curve.loc[365*21,'Restaurants'])\n",
    "                    /(survival_curve_base['Restaurants'].max()+age_curve.loc[365*21,'Restaurants'])*100,\n",
    "                    linewidth=1.0)\n",
    "#let's try to fit a decay constant:\n",
    "test_decay = []\n",
    "half_life = 0.172\n",
    "for x in range(23):\n",
    "    test_decay.append(100*np.e ** (-x*half_life))\n",
    "survival_plot2.plot(test_decay,color='red',linewidth=1.0)\n",
    "\n",
    "survival_plot2.grid(color='#eeeeee')\n",
    "survival_curve_base.loc[365,'Restaurants']/(survival_curve_base['Restaurants'].max()+age_curve.loc[365*21,'Restaurants'])"
   ]
  },
  {
   "cell_type": "code",
   "execution_count": 785,
   "id": "301aec38-74ac-432e-b361-0f192c56d592",
   "metadata": {},
   "outputs": [
    {
     "data": {
      "text/plain": [
       "1277"
      ]
     },
     "execution_count": 785,
     "metadata": {},
     "output_type": "execute_result"
    }
   ],
   "source": [
    "survival_curve_base.loc[survival_curve_base['Restaurants']>=(survival_curve_base.iloc[0,1]+age_curve.loc[365*21,'Restaurants'])/2,'Days'].max()\n",
    "#the median lifetime of a restaurant is 3.5 years"
   ]
  },
  {
   "cell_type": "code",
   "execution_count": 787,
   "id": "a8ee1d4d-d639-46fd-a638-a7bc85802779",
   "metadata": {},
   "outputs": [
    {
     "data": {
      "text/plain": [
       "[<matplotlib.lines.Line2D at 0x2581c8147f0>]"
      ]
     },
     "execution_count": 787,
     "metadata": {},
     "output_type": "execute_result"
    },
    {
     "data": {
      "image/png": "[encoded data removed]",
      "text/plain": [
       "<Figure size 648x432 with 1 Axes>"
      ]
     },
     "metadata": {
      "needs_background": "light"
     },
     "output_type": "display_data"
    }
   ],
   "source": [
    "#plot chances of failure by age\n",
    "yearly_survival=pd.DataFrame()\n",
    "for x in range(23): \n",
    "    yearly_survival = pd.concat([yearly_survival,survival_curve_base.loc[survival_curve_base.loc[survival_curve_base['Days']<=(365*x)]['Days'].max()]])\n",
    "yearly_survival = pd.concat([yearly_survival.reset_index().loc[yearly_survival.reset_index()['index']=='Days',0].reset_index(drop=True),\n",
    "                             yearly_survival.reset_index().loc[yearly_survival.reset_index()['index']=='Restaurants',0].reset_index(drop=True)], axis='columns',ignore_index=True)\n",
    "yearly_survival[1]=yearly_survival[1]+age_curve.loc[365*21,'Restaurants']\n",
    "failure_rate=[]\n",
    "for x in range(yearly_survival.shape[0]-1):\n",
    "    failure_rate.append(100*(1-yearly_survival.iloc[x+1,1]/yearly_survival.iloc[x,1]))\n",
    "fig, annual_failure_plot = plt.subplots(figsize=(9,6))\n",
    "#title: Age is just a number: chances of failure remain steady\n",
    "annual_failure_plot.set(xlabel='Years',ylabel='Annual chance of failure (%)',title='Age is just a number: chances of failure remain steady',xticks=range(23),ylim=(0,25),yticks=np.multiply(range(6),5))\n",
    "annual_failure_plot.plot(failure_rate, linewidth=1.0)"
   ]
  },
  {
   "cell_type": "code",
   "execution_count": null,
   "id": "3a87888b-80b2-4cd9-8f0c-6d4858674142",
   "metadata": {},
   "outputs": [],
   "source": [
    "#Whether or not restaurant existed during Covid:\n",
    "#start by removing duplicates...\n",
    "out_of_business = out_of_business.loc[~out_of_business.duplicated()]\n",
    "died_during_covid = (last_insp.loc[out_of_business] > pd.to_datetime('2020-03-17',yearfirst=True))\n",
    "lifespans_dead_covid = lifespans_dead.loc[died_during_covid]\n",
    "#see how that did\n",
    "\n",
    "def survival_curve(criteria):\n",
    "    lifespans_dead_criteria = lifespans_dead.loc[criteria]\n",
    "    survival_curve = []\n",
    "    for x in range(8000): \n",
    "        survival_curve.append([x,lifespans_dead_criteria.loc[lifespans_dead_criteria.dt.days>x].count()])\n",
    "    survival_curve = pd.DataFrame(survival_curve)\n",
    "    survival_curve = survival_curve.rename({0:'Days',1:'Restaurants'},axis='columns')\n",
    "    return survival_curve\n",
    "def survival_plot(survival_curve,color):\n",
    "    fig, survival_plot = plt.subplots(figsize=(9,6))\n",
    "    survival_plot.set(xlabel='Years',ylabel='Restaurants (%)',title='',xticks=range(23),yticks=np.multiply(range(11),10))\n",
    "    survival_plot.plot(survival_curve['Days']/365.25,survival_curve['Restaurants']/survival_curve['Restaurants'].max()*100,linewidth=1.0,color=color)\n",
    "    survival_plot.grid(color='#eeeeee')\n",
    "    survival_curve.loc[365,'Restaurants']/survival_curve['Restaurants'].max()\n",
    "covid_survival=survival_curve(died_during_covid)\n",
    "survival_plot(covid_survival,'red')\n",
    "survival_plot(survival_curve_base,'blue')\n",
    "#restaurants that died during covid, what was their inspection period before then?"
   ]
  },
  {
   "cell_type": "markdown",
   "id": "fd96799d-a8ab-40eb-bd0c-f265621c8851",
   "metadata": {},
   "source": [
    "## Predictive Model - Feature Engineering"
   ]
  },
  {
   "cell_type": "code",
   "execution_count": 1463,
   "id": "322b6aa2-e126-4b42-8a6a-1ad35b1c861e",
   "metadata": {},
   "outputs": [],
   "source": [
    "#year\n",
    "#Infraction count per year\n",
    "#Conditional passes per year\n",
    "#closures in a year\n",
    "#existed during covid\n",
    "#Part of a chain\n",
    "#restaurant type - 3 exclusive categories\n",
    "#Keywords in name - 21 keywords\n",
    "#restaurant density in area\n",
    "#two test values\n",
    "\n",
    "#so I want to give the above inputs to a regression tool, and have it say whether or not the restaurant will fail in that year\n",
    "#so the inputs would be the data grouped by restaurant ID and year\n",
    "model_head = data.groupby(['ESTABLISHMENT_ID',pd.Grouper(key='INSPECTION_DATE',freq='Y')]).first()\n",
    "#trim to restaurants only\n",
    "model_head = model_head.reset_index(level=1).join(is_restaurant.loc[is_restaurant],rsuffix='.isresto',how='right').set_index('INSPECTION_DATE',append=True)\n",
    "\n",
    "#test values: does restaurant survive this year or next 2 years\n",
    "model_alive = model_head.reset_index(level=1).join(last_insp.rename('last_insp')).rename({'INSPECTION_DATE':'end_of_year'},axis='columns')\n",
    "model_survive_1yr = model_alive['end_of_year'].dt.year != model_alive['last_insp'].dt.year #last inspection (death year) is this year - the death year\n",
    "model_survive_1yr = pd.concat([model_survive_1yr,model_alive['end_of_year'].rename('INSPECTION_DATE')],axis='columns').set_index('INSPECTION_DATE',append=True)\n",
    "model_survive_2yr = model_alive['end_of_year'].dt.year+1 < (model_alive['last_insp'].dt.year) #last inspection is next year or this year - dies within 2 years\n",
    "model_survive_2yr = pd.concat([model_survive_2yr,model_alive['end_of_year'].rename('INSPECTION_DATE')],axis='columns').set_index('INSPECTION_DATE',append=True)\n",
    "\n",
    "#infraction counts: id-date multiindex, count\n",
    "model_i_sig = data.loc[data['SEVERITY']=='S - Significant'].groupby(['ESTABLISHMENT_ID',pd.Grouper(key='INSPECTION_DATE',freq='Y')])['SEVERITY'].count()\n",
    "model_i_min = data.loc[data['SEVERITY']=='M - Minor'].groupby(['ESTABLISHMENT_ID',pd.Grouper(key='INSPECTION_DATE',freq='Y')])['SEVERITY'].count()\n",
    "model_i_cru = data.loc[data['SEVERITY']=='C - Crucial'].groupby(['ESTABLISHMENT_ID',pd.Grouper(key='INSPECTION_DATE',freq='Y')])['SEVERITY'].count()\n",
    "\n",
    "#conditional pass/closed counts: id-date multiindex, count -  - leaving out pass counts as that is correlated with conditional pass\n",
    "model_stat_cond = data.loc[data['ESTABLISHMENT_STATUS']=='Conditional Pass'].groupby(['ESTABLISHMENT_ID',pd.Grouper(key='INSPECTION_DATE',freq='Y'),'INSPECTION_ID'])['ESTABLISHMENT_STATUS'].first().reset_index(level=2, drop=True)\n",
    "model_stat_cond = model_stat_cond.groupby(['ESTABLISHMENT_ID','INSPECTION_DATE']).count()\n",
    "model_stat_clos = data.loc[data['ESTABLISHMENT_STATUS']=='Closed'].groupby(['ESTABLISHMENT_ID',pd.Grouper(key='INSPECTION_DATE',freq='Y'),'INSPECTION_ID'])['ESTABLISHMENT_STATUS'].first().reset_index(level=2, drop=True)\n",
    "model_stat_clos = model_stat_clos.groupby(['ESTABLISHMENT_ID','INSPECTION_DATE']).count()\n",
    "\n",
    "#existed during covid\n",
    "model_during_covid = pd.concat([died_during_covid.loc[died_during_covid==True],in_business]) #2495 + 10830 = 13325\n",
    "model_during_covid = model_head.reset_index(level=1).loc[model_head.reset_index(level=1)['INSPECTION_DATE']>=pd.to_datetime('2020-12-31'),'INSPECTION_DATE']\n",
    "model_during_covid = pd.concat([model_during_covid,model_during_covid.notna().rename('during_covid')],axis='columns').set_index('INSPECTION_DATE',append=True)\n",
    "model_during_covid = pd.concat([model_head,model_during_covid]).fillna(False)['during_covid']\n",
    "\n",
    "#Part of a chain\n",
    "top_chains = chains.groupby('Company/Franchise').count().sort_values('Name',ascending=False).iloc[0:49]['Name'] #top 50 most prevalent chains\n",
    "chain_member = chains.join(top_chains,on='Company/Franchise',rsuffix='.top')\n",
    "chain_member = chain_member.loc[chain_member['Name.top'].notna(),'Establishment ID']\n",
    "model_chain = data.loc[data['ESTABLISHMENT_ID'].isin(chain_member)].groupby(['ESTABLISHMENT_ID','INSPECTION_DATE'])['ESTABLISHMENT_NAME'].first().astype('bool')\n",
    "model_chain = model_head.reset_index(level=1).join(model_chain.reset_index(level=1),rsuffix='.chain').loc[:,['INSPECTION_DATE','ESTABLISHMENT_NAME.chain']].fillna('False').set_index('INSPECTION_DATE',append=True).rename({'ESTABLISHMENT_NAME.chain':'ischain'},axis='columns')\n",
    "\n",
    "#restaurant type - one-hot encoding\n",
    "model_type_takeout = model_head['ESTABLISHMENTTYPE'].str.contains('Food Take Out',case=False)\n",
    "model_type_resto = model_head['ESTABLISHMENTTYPE'].str.contains('Restaurant',case=False)\n",
    "model_type_foodcourt = model_head['ESTABLISHMENTTYPE'].str.contains('Food Court',case=False)\n",
    "\n",
    "#name keywords\n",
    "name_kw = {0:'pho',1:'shawarma',2:'pizza',3:'coffee',4:'grill',5:'burger',6:'sushi',7:'tea',8:'teriyaki',9:'fries',10:'wok',11:'chinese',\n",
    "          12:'pub',13:'wing',14:'thai',15:'indian',16:'japanese',17:'bagel',18:'burrito',19:'vegan',20:'donut'}\n",
    "model_names = pd.DataFrame()\n",
    "for x in name_kw:\n",
    "    model_names = pd.concat([model_names,model_head['ESTABLISHMENT_NAME'].str.contains(name_kw[x],case=False)],axis='columns')\n",
    "model_names.columns=['kw_pho','kw_shawarma','kw_pizza','kw_coffee','kw_grill','kw_burger','kw_sushi','kw_tea','kw_teriyaki','kw_fries',\n",
    "                         'kw_wok','kw_chinese','kw_pub','kw_wing','kw_thai','kw_indian','kw_japanese','kw_bagel','kw_burrito','kw_vegan',\n",
    "                        'kw_donut']\n",
    "\n",
    "#restaurant density is in next panel because it takes forever\n"
   ]
  },
  {
   "cell_type": "code",
   "execution_count": null,
   "id": "b9c11c66-5d20-4f9d-8429-2dae42790d11",
   "metadata": {},
   "outputs": [],
   "source": [
    "#restaurant density - # of neighbours within x radius\n",
    "import geopandas as gpd\n",
    "#need to get list of restaurants active at the same time\n",
    "\n",
    "gpd_density = gpd.GeoDataFrame(unique_resto, geometry=gpd.points_from_xy(unique_resto['LONGITUDE'],unique_resto['LATITUDE']))\n",
    "gpd_density.crs = {'init': 'epsg:4326'}\n",
    "bufferdist=[100,500,1000] #buffer distances\n",
    "\n",
    "#this takes 2 hours to run per year - let's just do it for 100m, be careful about running this\n",
    "neighbour_count = []\n",
    "gpd_density_buffers=gpd_density['geometry'].to_crs(crs=3857).buffer(bufferdist[0])\n",
    "for year in model_head.reset_index()['INSPECTION_DATE'].unique():\n",
    "    if ((np.datetime64(year,'Y').astype('int')+1970) %4) == 0: #only do every 4 years... assume it's relatively stationary over that time\n",
    "        neighbours_id = model_survive_1yr.reset_index().loc[model_survive_1yr.reset_index()['INSPECTION_DATE']==year]\n",
    "        gpd_neighbours = gpd_density.loc[neighbours_id['ESTABLISHMENT_ID']]\n",
    "        print('working on: '+str(year))\n",
    "        buffer_row = 0\n",
    "        for restaurant_buffer in gpd_density_buffers:\n",
    "            restaurant_count = 0\n",
    "            for neighbour in gpd_neighbours['geometry'].to_crs(crs=3857):\n",
    "                if restaurant_buffer.contains(neighbour): restaurant_count += 1\n",
    "            neighbour_count.append([bufferdist[0],year,restaurant_count])\n",
    "            buffer_row += 1\n",
    "            if ((buffer_row%1000) == 0): print('done:'+str(buffer_row))"
   ]
  },
  {
   "cell_type": "code",
   "execution_count": null,
   "id": "66ae501f-d709-4475-93f3-49fb1d0256d0",
   "metadata": {},
   "outputs": [],
   "source": [
    "#process neighbour data into a list that corresponds to the model_head format\n",
    "buffer_index=pd.DataFrame()\n",
    "#i did every restaurant for every year, including restaurants that didn't exist in that year, that was silly\n",
    "#the advantage is it's easy to recreate the index\n",
    "for year in model_head.reset_index()['INSPECTION_DATE'].unique():\n",
    "    neighbours_id = model_survive_1yr.reset_index().loc[model_survive_1yr.reset_index()['INSPECTION_DATE']==year]\n",
    "    gpd_neighbours = gpd_density.loc[neighbours_id['ESTABLISHMENT_ID']]\n",
    "    buffer_index = pd.concat([buffer_index,gpd_neighbours.reset_index()])\n",
    "neighbour_data = pd.DataFrame(neighbour_count,columns=['buffer','year','neighbours_within_buffer'])\n",
    "model_neighbours = pd.DataFrame()\n",
    "refyear = pd.to_datetime('2004-12-31') #first reference date to centre around\n",
    "for year in model_head.reset_index()['INSPECTION_DATE'].unique():\n",
    "    if ((np.datetime64(year,'Y').astype('int')+1970)%4) ==0: refyear = year #03-05 will ref 2004, 06-09 will ref 2008, etc.\n",
    "    year_data = neighbour_data.loc[neighbour_data['year']==refyear]\n",
    "    model_neighbours = pd.concat([model_neighbours,year_data])\n",
    "#model_neighbours = pd.concat([buffer_index,model_neighbours],axis='columns')"
   ]
  },
  {
   "cell_type": "code",
   "execution_count": 1427,
   "id": "2c943118-4d5e-41b6-add0-eebbdc011a7a",
   "metadata": {},
   "outputs": [
    {
     "data": {
      "text/plain": [
       "0        2003-12-31\n",
       "1        2003-12-31\n",
       "2        2003-12-31\n",
       "3        2003-12-31\n",
       "4        2003-12-31\n",
       "            ...    \n",
       "493915   2023-12-31\n",
       "493916   2023-12-31\n",
       "493917   2023-12-31\n",
       "493918   2023-12-31\n",
       "493919   2023-12-31\n",
       "Name: end_of_year, Length: 493920, dtype: datetime64[ns]"
      ]
     },
     "execution_count": 1427,
     "metadata": {},
     "output_type": "execute_result"
    }
   ],
   "source": [
    "#buffer_index['ESTABLISHMENT_ID']\n",
    "#assign index to neighbour_data\n",
    "modelyear = []\n",
    "for x in range(21):\n",
    "    tempyear = 2003+x\n",
    "    stryear = str(tempyear)+'-12-31'\n",
    "    for x in range(23520): modelyear.append(pd.to_datetime(stryear))\n",
    "modelyear = pd.Series(modelyear, name='end_of_year')\n",
    "model_neighbourcount = pd.DataFrame()\n",
    "bufferlength = gpd_density_buffers.shape[0]\n",
    "\n",
    "#join the index to the data\n",
    "model_neighbourcount = pd.DataFrame()\n",
    "for x in range(21):\n",
    "    temp_neighbours = pd.concat([gpd_density_buffers.reset_index().iloc[:,0],\n",
    "                                 model_neighbours.iloc[bufferlength*x:bufferlength*(x+1)].reset_index(drop=True)],axis='columns')\n",
    "    model_neighbourcount = pd.concat([model_neighbourcount,temp_neighbours])\n",
    "model_neighbourcount = pd.concat([model_neighbourcount.reset_index(drop=True),modelyear],axis='columns')\n",
    "model_neighbourcount_100 = model_neighbourcount.rename({'end_of_year':'INSPECTION_DATE'},axis='columns').set_index(['ESTABLISHMENT_ID','INSPECTION_DATE']).drop(['buffer','year'],axis='columns')\n",
    "model_neighbourcount_100=model_neighbourcount_100['neighbours_within_buffer'].subtract(1) #take out their own intersection"
   ]
  },
  {
   "cell_type": "code",
   "execution_count": 1558,
   "id": "35b5820b-992a-48c2-8238-1e3aa9b1e5c0",
   "metadata": {},
   "outputs": [
    {
     "data": {
      "text/html": [
       "<div>\n",
       "<style scoped>\n",
       "    .dataframe tbody tr th:only-of-type {\n",
       "        vertical-align: middle;\n",
       "    }\n",
       "\n",
       "    .dataframe tbody tr th {\n",
       "        vertical-align: top;\n",
       "    }\n",
       "\n",
       "    .dataframe thead th {\n",
       "        text-align: right;\n",
       "    }\n",
       "</style>\n",
       "<table border=\"1\" class=\"dataframe\">\n",
       "  <thead>\n",
       "    <tr style=\"text-align: right;\">\n",
       "      <th></th>\n",
       "      <th></th>\n",
       "      <th>ischain</th>\n",
       "    </tr>\n",
       "    <tr>\n",
       "      <th>ESTABLISHMENT_ID</th>\n",
       "      <th>INSPECTION_DATE</th>\n",
       "      <th></th>\n",
       "    </tr>\n",
       "  </thead>\n",
       "  <tbody>\n",
       "    <tr>\n",
       "      <th rowspan=\"5\" valign=\"top\">1222579</th>\n",
       "      <th>2003-12-31</th>\n",
       "      <td>False</td>\n",
       "    </tr>\n",
       "    <tr>\n",
       "      <th>2004-12-31</th>\n",
       "      <td>False</td>\n",
       "    </tr>\n",
       "    <tr>\n",
       "      <th>2005-12-31</th>\n",
       "      <td>False</td>\n",
       "    </tr>\n",
       "    <tr>\n",
       "      <th>2006-12-31</th>\n",
       "      <td>False</td>\n",
       "    </tr>\n",
       "    <tr>\n",
       "      <th>2007-12-31</th>\n",
       "      <td>False</td>\n",
       "    </tr>\n",
       "    <tr>\n",
       "      <th>...</th>\n",
       "      <th>...</th>\n",
       "      <td>...</td>\n",
       "    </tr>\n",
       "    <tr>\n",
       "      <th>10765703</th>\n",
       "      <th>2022-12-31</th>\n",
       "      <td>False</td>\n",
       "    </tr>\n",
       "    <tr>\n",
       "      <th>10765721</th>\n",
       "      <th>2022-12-31</th>\n",
       "      <td>False</td>\n",
       "    </tr>\n",
       "    <tr>\n",
       "      <th>10765722</th>\n",
       "      <th>2022-12-31</th>\n",
       "      <td>False</td>\n",
       "    </tr>\n",
       "    <tr>\n",
       "      <th>10765737</th>\n",
       "      <th>2022-12-31</th>\n",
       "      <td>False</td>\n",
       "    </tr>\n",
       "    <tr>\n",
       "      <th>10765921</th>\n",
       "      <th>2022-12-31</th>\n",
       "      <td>False</td>\n",
       "    </tr>\n",
       "  </tbody>\n",
       "</table>\n",
       "<p>594907 rows × 1 columns</p>\n",
       "</div>"
      ],
      "text/plain": [
       "                                 ischain\n",
       "ESTABLISHMENT_ID INSPECTION_DATE        \n",
       "1222579          2003-12-31        False\n",
       "                 2004-12-31        False\n",
       "                 2005-12-31        False\n",
       "                 2006-12-31        False\n",
       "                 2007-12-31        False\n",
       "...                                  ...\n",
       "10765703         2022-12-31        False\n",
       "10765721         2022-12-31        False\n",
       "10765722         2022-12-31        False\n",
       "10765737         2022-12-31        False\n",
       "10765921         2022-12-31        False\n",
       "\n",
       "[594907 rows x 1 columns]"
      ]
     },
     "execution_count": 1558,
     "metadata": {},
     "output_type": "execute_result"
    }
   ],
   "source": [
    "model_chain"
   ]
  },
  {
   "cell_type": "code",
   "execution_count": 1592,
   "id": "0562ca57-d945-4b9e-8b61-71f339dd8931",
   "metadata": {},
   "outputs": [],
   "source": [
    "#put all the features together into model_head\n",
    "model_clean = pd.concat([model_head.loc[:,'ESTABLISHMENT_NAME'],model_survive_1yr.rename({0:'survive_1yr'},axis=1),\n",
    "                         model_survive_2yr.rename({0:'survive_2yr'},axis=1),model_i_sig.rename('infr_sig'),\n",
    "                         model_i_min.rename('infr_min'),model_i_cru.rename('infr_cru'),\n",
    "                         model_stat_cond.rename('stat_cond'),model_stat_clos.rename('stat_clos')],axis='columns')\n",
    "model_clean = model_clean.dropna(subset=['ESTABLISHMENT_NAME']).fillna(0)\n",
    "#more features\n",
    "model_clean = pd.concat([model_clean,model_chain.reset_index().drop_duplicates().set_index(['ESTABLISHMENT_ID','INSPECTION_DATE']),\n",
    "           model_type_takeout.rename('type_takeout'),model_type_resto.rename('type_resto'),model_type_foodcourt.rename('type_foodcourt'),\n",
    "          model_names],axis='columns')\n",
    "model_during_covid_clean = model_during_covid.reset_index().drop_duplicates(subset=['ESTABLISHMENT_ID','INSPECTION_DATE']).set_index(['ESTABLISHMENT_ID','INSPECTION_DATE'])\n",
    "model_clean = pd.concat([model_clean,model_during_covid_clean],axis='columns')\n",
    "#final one\n",
    "model_neighbourcount_clean = model_neighbourcount_100.reset_index().drop_duplicates(subset=['ESTABLISHMENT_ID','INSPECTION_DATE']).set_index(['ESTABLISHMENT_ID','INSPECTION_DATE'])\n",
    "model_neighbourcount_clean = model_neighbourcount_clean.loc[model_neighbourcount_clean.index.isin(model_clean.index)]\n",
    "model_clean = pd.concat([model_clean,model_neighbourcount_clean],axis='columns').fillna(0)"
   ]
  },
  {
   "cell_type": "code",
   "execution_count": 1661,
   "id": "d08cb14e-378c-41fc-ae93-11d8046db15e",
   "metadata": {},
   "outputs": [],
   "source": [
    "model_clean.to_csv('model_clean.csv')"
   ]
  },
  {
   "cell_type": "markdown",
   "id": "a5d648a9-e898-4645-9e53-9343c79cd1cc",
   "metadata": {},
   "source": [
    "## Predictive Model - Model specification"
   ]
  },
  {
   "cell_type": "code",
   "execution_count": 1662,
   "id": "ca6f1938-86b1-4e69-99c4-1308127cf72c",
   "metadata": {},
   "outputs": [
    {
     "name": "stdout",
     "output_type": "stream",
     "text": [
      "Collecting imblearn\n",
      "  Using cached imblearn-0.0-py2.py3-none-any.whl (1.9 kB)\n",
      "Collecting imbalanced-learn\n",
      "  Using cached imbalanced_learn-0.9.1-py3-none-any.whl (199 kB)\n",
      "Requirement already satisfied: joblib>=1.0.0 in c:\\users\\brantzeeman\\anaconda3\\lib\\site-packages (from imbalanced-learn->imblearn) (1.1.0)\n",
      "Requirement already satisfied: scikit-learn>=1.1.0 in c:\\users\\brantzeeman\\anaconda3\\lib\\site-packages (from imbalanced-learn->imblearn) (1.1.3)\n",
      "Requirement already satisfied: numpy>=1.17.3 in c:\\users\\brantzeeman\\anaconda3\\lib\\site-packages (from imbalanced-learn->imblearn) (1.21.5)\n",
      "Requirement already satisfied: scipy>=1.3.2 in c:\\users\\brantzeeman\\anaconda3\\lib\\site-packages (from imbalanced-learn->imblearn) (1.7.3)\n",
      "Requirement already satisfied: threadpoolctl>=2.0.0 in c:\\users\\brantzeeman\\anaconda3\\lib\\site-packages (from imbalanced-learn->imblearn) (2.2.0)\n",
      "Installing collected packages: imbalanced-learn, imblearn\n",
      "Successfully installed imbalanced-learn-0.9.1 imblearn-0.0\n",
      "Note: you may need to restart the kernel to use updated packages.\n"
     ]
    }
   ],
   "source": [
    "pip install imblearn --user"
   ]
  },
  {
   "cell_type": "code",
   "execution_count": 6,
   "id": "54f966ff-afda-4092-8835-6cc7d9855c2c",
   "metadata": {},
   "outputs": [],
   "source": [
    "from sklearn import preprocessing, set_config\n",
    "from sklearn.decomposition import PCA\n",
    "from sklearn.model_selection import train_test_split, GridSearchCV, RandomizedSearchCV, RepeatedStratifiedKFold\n",
    "from sklearn.metrics import confusion_matrix, classification_report, accuracy_score, f1_score\n",
    "from sklearn.preprocessing import OneHotEncoder, LabelEncoder, StandardScaler, MinMaxScaler\n",
    "from sklearn.linear_model import LogisticRegression\n",
    "from sklearn.feature_selection import f_regression, SelectFromModel, SelectKBest, chi2\n",
    "from sklearn.compose import ColumnTransformer\n",
    "from sklearn.preprocessing import PolynomialFeatures\n",
    "#from imblearn.over_sampling import SMOTE\n",
    "#from imblearn.pipeline import Pipeline\n",
    "from scipy.stats import loguniform\n",
    "from sklearn.ensemble import RandomForestClassifier\n",
    "from sklearn.metrics import plot_confusion_matrix, classification_report"
   ]
  },
  {
   "cell_type": "code",
   "execution_count": 16,
   "id": "947dd313-5349-4520-b8ac-5a6042a7732b",
   "metadata": {},
   "outputs": [
    {
     "name": "stderr",
     "output_type": "stream",
     "text": [
      "C:\\Users\\BrantZeeman\\AppData\\Local\\Temp\\ipykernel_17064\\1910913720.py:1: DtypeWarning: Columns (14,15,16,17,18,19,20,21,22,23,24,25,26,27,28,29,30,31,32,33,34) have mixed types. Specify dtype option on import or set low_memory=False.\n",
      "  model_clean = pd.read_csv('survival_model_clean.csv').set_index(['Unnamed: 0','Unnamed: 1'])\n"
     ]
    }
   ],
   "source": [
    "#model_clean = pd.read_csv('survival_model_clean.csv').set_index(['Unnamed: 0','Unnamed: 1'])\n",
    "#importing cleaned model because running the above takes too long\n",
    "model_clean.columns\n",
    "model_clean = model_clean.replace([True,False],[1,0])\n",
    "model_clean = model_clean.replace(['True','False'],[1,0])"
   ]
  },
  {
   "cell_type": "code",
   "execution_count": 18,
   "id": "933a1d24-4b2b-4eb0-8a42-9b16b96f8bd6",
   "metadata": {},
   "outputs": [
    {
     "data": {
      "text/plain": [
       "0.6708103573933252"
      ]
     },
     "execution_count": 18,
     "metadata": {},
     "output_type": "execute_result"
    }
   ],
   "source": [
    "scaler = MinMaxScaler()\n",
    "model_scaled = model_clean.drop(['ESTABLISHMENT_NAME','survive_1yr','survive_2yr'],axis=1).loc[model_clean['during_covid']==False]\n",
    "scaler.fit(model_scaled)\n",
    "y=model_clean['survive_1yr']\n",
    "X=scaler.transform(model_scaled)\n",
    "X_train, X_test, y_train, y_test = train_test_split(X, y,random_state=12345)\n",
    "model = LogisticRegression(class_weight = 'balanced',max_iter=1000, penalty='l2')\n",
    "model.fit(X_train,y_train)\n",
    "f1_score(model.predict(X_train), y_train)"
   ]
  },
  {
   "cell_type": "code",
   "execution_count": 19,
   "id": "2bedb1a8-87d8-4740-b27a-bdb3fe7c986f",
   "metadata": {},
   "outputs": [
    {
     "data": {
      "text/html": [
       "<div>\n",
       "<style scoped>\n",
       "    .dataframe tbody tr th:only-of-type {\n",
       "        vertical-align: middle;\n",
       "    }\n",
       "\n",
       "    .dataframe tbody tr th {\n",
       "        vertical-align: top;\n",
       "    }\n",
       "\n",
       "    .dataframe thead th {\n",
       "        text-align: right;\n",
       "    }\n",
       "</style>\n",
       "<table border=\"1\" class=\"dataframe\">\n",
       "  <thead>\n",
       "    <tr style=\"text-align: right;\">\n",
       "      <th></th>\n",
       "      <th></th>\n",
       "      <th>infr_sig</th>\n",
       "      <th>infr_min</th>\n",
       "      <th>infr_cru</th>\n",
       "      <th>stat_cond</th>\n",
       "      <th>stat_clos</th>\n",
       "      <th>ischain</th>\n",
       "      <th>type_takeout</th>\n",
       "      <th>type_resto</th>\n",
       "      <th>type_foodcourt</th>\n",
       "      <th>kw_pho</th>\n",
       "      <th>...</th>\n",
       "      <th>kw_wing</th>\n",
       "      <th>kw_thai</th>\n",
       "      <th>kw_indian</th>\n",
       "      <th>kw_japanese</th>\n",
       "      <th>kw_bagel</th>\n",
       "      <th>kw_burrito</th>\n",
       "      <th>kw_vegan</th>\n",
       "      <th>kw_donut</th>\n",
       "      <th>during_covid</th>\n",
       "      <th>neighbours_within_buffer</th>\n",
       "    </tr>\n",
       "    <tr>\n",
       "      <th>Unnamed: 0</th>\n",
       "      <th>Unnamed: 1</th>\n",
       "      <th></th>\n",
       "      <th></th>\n",
       "      <th></th>\n",
       "      <th></th>\n",
       "      <th></th>\n",
       "      <th></th>\n",
       "      <th></th>\n",
       "      <th></th>\n",
       "      <th></th>\n",
       "      <th></th>\n",
       "      <th></th>\n",
       "      <th></th>\n",
       "      <th></th>\n",
       "      <th></th>\n",
       "      <th></th>\n",
       "      <th></th>\n",
       "      <th></th>\n",
       "      <th></th>\n",
       "      <th></th>\n",
       "      <th></th>\n",
       "      <th></th>\n",
       "    </tr>\n",
       "  </thead>\n",
       "  <tbody>\n",
       "    <tr>\n",
       "      <th rowspan=\"5\" valign=\"top\">1222579</th>\n",
       "      <th>2003-12-31</th>\n",
       "      <td>2.0</td>\n",
       "      <td>2.0</td>\n",
       "      <td>0.0</td>\n",
       "      <td>1.0</td>\n",
       "      <td>0.0</td>\n",
       "      <td>0</td>\n",
       "      <td>1</td>\n",
       "      <td>0</td>\n",
       "      <td>0</td>\n",
       "      <td>0</td>\n",
       "      <td>...</td>\n",
       "      <td>0</td>\n",
       "      <td>0</td>\n",
       "      <td>0</td>\n",
       "      <td>0</td>\n",
       "      <td>0</td>\n",
       "      <td>0</td>\n",
       "      <td>0</td>\n",
       "      <td>0</td>\n",
       "      <td>0</td>\n",
       "      <td>0.0</td>\n",
       "    </tr>\n",
       "    <tr>\n",
       "      <th>2004-12-31</th>\n",
       "      <td>1.0</td>\n",
       "      <td>7.0</td>\n",
       "      <td>0.0</td>\n",
       "      <td>0.0</td>\n",
       "      <td>0.0</td>\n",
       "      <td>0</td>\n",
       "      <td>1</td>\n",
       "      <td>0</td>\n",
       "      <td>0</td>\n",
       "      <td>0</td>\n",
       "      <td>...</td>\n",
       "      <td>0</td>\n",
       "      <td>0</td>\n",
       "      <td>0</td>\n",
       "      <td>0</td>\n",
       "      <td>0</td>\n",
       "      <td>0</td>\n",
       "      <td>0</td>\n",
       "      <td>0</td>\n",
       "      <td>0</td>\n",
       "      <td>0.0</td>\n",
       "    </tr>\n",
       "    <tr>\n",
       "      <th>2005-12-31</th>\n",
       "      <td>0.0</td>\n",
       "      <td>2.0</td>\n",
       "      <td>0.0</td>\n",
       "      <td>0.0</td>\n",
       "      <td>0.0</td>\n",
       "      <td>0</td>\n",
       "      <td>1</td>\n",
       "      <td>0</td>\n",
       "      <td>0</td>\n",
       "      <td>0</td>\n",
       "      <td>...</td>\n",
       "      <td>0</td>\n",
       "      <td>0</td>\n",
       "      <td>0</td>\n",
       "      <td>0</td>\n",
       "      <td>0</td>\n",
       "      <td>0</td>\n",
       "      <td>0</td>\n",
       "      <td>0</td>\n",
       "      <td>0</td>\n",
       "      <td>0.0</td>\n",
       "    </tr>\n",
       "    <tr>\n",
       "      <th>2006-12-31</th>\n",
       "      <td>1.0</td>\n",
       "      <td>3.0</td>\n",
       "      <td>0.0</td>\n",
       "      <td>0.0</td>\n",
       "      <td>0.0</td>\n",
       "      <td>0</td>\n",
       "      <td>1</td>\n",
       "      <td>0</td>\n",
       "      <td>0</td>\n",
       "      <td>0</td>\n",
       "      <td>...</td>\n",
       "      <td>0</td>\n",
       "      <td>0</td>\n",
       "      <td>0</td>\n",
       "      <td>0</td>\n",
       "      <td>0</td>\n",
       "      <td>0</td>\n",
       "      <td>0</td>\n",
       "      <td>0</td>\n",
       "      <td>0</td>\n",
       "      <td>0.0</td>\n",
       "    </tr>\n",
       "    <tr>\n",
       "      <th>2007-12-31</th>\n",
       "      <td>2.0</td>\n",
       "      <td>3.0</td>\n",
       "      <td>0.0</td>\n",
       "      <td>1.0</td>\n",
       "      <td>0.0</td>\n",
       "      <td>0</td>\n",
       "      <td>1</td>\n",
       "      <td>0</td>\n",
       "      <td>0</td>\n",
       "      <td>0</td>\n",
       "      <td>...</td>\n",
       "      <td>0</td>\n",
       "      <td>0</td>\n",
       "      <td>0</td>\n",
       "      <td>0</td>\n",
       "      <td>0</td>\n",
       "      <td>0</td>\n",
       "      <td>0</td>\n",
       "      <td>0</td>\n",
       "      <td>0</td>\n",
       "      <td>0.0</td>\n",
       "    </tr>\n",
       "    <tr>\n",
       "      <th>...</th>\n",
       "      <th>...</th>\n",
       "      <td>...</td>\n",
       "      <td>...</td>\n",
       "      <td>...</td>\n",
       "      <td>...</td>\n",
       "      <td>...</td>\n",
       "      <td>...</td>\n",
       "      <td>...</td>\n",
       "      <td>...</td>\n",
       "      <td>...</td>\n",
       "      <td>...</td>\n",
       "      <td>...</td>\n",
       "      <td>...</td>\n",
       "      <td>...</td>\n",
       "      <td>...</td>\n",
       "      <td>...</td>\n",
       "      <td>...</td>\n",
       "      <td>...</td>\n",
       "      <td>...</td>\n",
       "      <td>...</td>\n",
       "      <td>...</td>\n",
       "      <td>...</td>\n",
       "    </tr>\n",
       "    <tr>\n",
       "      <th>10765703</th>\n",
       "      <th>2022-12-31</th>\n",
       "      <td>6.0</td>\n",
       "      <td>2.0</td>\n",
       "      <td>1.0</td>\n",
       "      <td>1.0</td>\n",
       "      <td>0.0</td>\n",
       "      <td>0</td>\n",
       "      <td>0</td>\n",
       "      <td>1</td>\n",
       "      <td>0</td>\n",
       "      <td>0</td>\n",
       "      <td>...</td>\n",
       "      <td>0</td>\n",
       "      <td>0</td>\n",
       "      <td>0</td>\n",
       "      <td>0</td>\n",
       "      <td>0</td>\n",
       "      <td>0</td>\n",
       "      <td>0</td>\n",
       "      <td>0</td>\n",
       "      <td>0</td>\n",
       "      <td>10.0</td>\n",
       "    </tr>\n",
       "    <tr>\n",
       "      <th>10765721</th>\n",
       "      <th>2022-12-31</th>\n",
       "      <td>0.0</td>\n",
       "      <td>0.0</td>\n",
       "      <td>0.0</td>\n",
       "      <td>0.0</td>\n",
       "      <td>0.0</td>\n",
       "      <td>0</td>\n",
       "      <td>1</td>\n",
       "      <td>0</td>\n",
       "      <td>0</td>\n",
       "      <td>0</td>\n",
       "      <td>...</td>\n",
       "      <td>0</td>\n",
       "      <td>0</td>\n",
       "      <td>0</td>\n",
       "      <td>0</td>\n",
       "      <td>0</td>\n",
       "      <td>0</td>\n",
       "      <td>0</td>\n",
       "      <td>0</td>\n",
       "      <td>0</td>\n",
       "      <td>6.0</td>\n",
       "    </tr>\n",
       "    <tr>\n",
       "      <th>10765722</th>\n",
       "      <th>2022-12-31</th>\n",
       "      <td>0.0</td>\n",
       "      <td>0.0</td>\n",
       "      <td>0.0</td>\n",
       "      <td>0.0</td>\n",
       "      <td>0.0</td>\n",
       "      <td>0</td>\n",
       "      <td>1</td>\n",
       "      <td>0</td>\n",
       "      <td>0</td>\n",
       "      <td>0</td>\n",
       "      <td>...</td>\n",
       "      <td>0</td>\n",
       "      <td>0</td>\n",
       "      <td>0</td>\n",
       "      <td>0</td>\n",
       "      <td>0</td>\n",
       "      <td>0</td>\n",
       "      <td>0</td>\n",
       "      <td>0</td>\n",
       "      <td>0</td>\n",
       "      <td>16.0</td>\n",
       "    </tr>\n",
       "    <tr>\n",
       "      <th>10765737</th>\n",
       "      <th>2022-12-31</th>\n",
       "      <td>0.0</td>\n",
       "      <td>0.0</td>\n",
       "      <td>0.0</td>\n",
       "      <td>0.0</td>\n",
       "      <td>0.0</td>\n",
       "      <td>0</td>\n",
       "      <td>0</td>\n",
       "      <td>1</td>\n",
       "      <td>0</td>\n",
       "      <td>0</td>\n",
       "      <td>...</td>\n",
       "      <td>0</td>\n",
       "      <td>0</td>\n",
       "      <td>0</td>\n",
       "      <td>0</td>\n",
       "      <td>0</td>\n",
       "      <td>0</td>\n",
       "      <td>0</td>\n",
       "      <td>0</td>\n",
       "      <td>0</td>\n",
       "      <td>0.0</td>\n",
       "    </tr>\n",
       "    <tr>\n",
       "      <th>10765921</th>\n",
       "      <th>2022-12-31</th>\n",
       "      <td>1.0</td>\n",
       "      <td>0.0</td>\n",
       "      <td>0.0</td>\n",
       "      <td>0.0</td>\n",
       "      <td>0.0</td>\n",
       "      <td>0</td>\n",
       "      <td>1</td>\n",
       "      <td>0</td>\n",
       "      <td>0</td>\n",
       "      <td>0</td>\n",
       "      <td>...</td>\n",
       "      <td>0</td>\n",
       "      <td>0</td>\n",
       "      <td>0</td>\n",
       "      <td>0</td>\n",
       "      <td>0</td>\n",
       "      <td>0</td>\n",
       "      <td>0</td>\n",
       "      <td>0</td>\n",
       "      <td>0</td>\n",
       "      <td>1.0</td>\n",
       "    </tr>\n",
       "  </tbody>\n",
       "</table>\n",
       "<p>145982 rows × 32 columns</p>\n",
       "</div>"
      ],
      "text/plain": [
       "                       infr_sig  infr_min  infr_cru  stat_cond  stat_clos  \\\n",
       "Unnamed: 0 Unnamed: 1                                                       \n",
       "1222579    2003-12-31       2.0       2.0       0.0        1.0        0.0   \n",
       "           2004-12-31       1.0       7.0       0.0        0.0        0.0   \n",
       "           2005-12-31       0.0       2.0       0.0        0.0        0.0   \n",
       "           2006-12-31       1.0       3.0       0.0        0.0        0.0   \n",
       "           2007-12-31       2.0       3.0       0.0        1.0        0.0   \n",
       "...                         ...       ...       ...        ...        ...   \n",
       "10765703   2022-12-31       6.0       2.0       1.0        1.0        0.0   \n",
       "10765721   2022-12-31       0.0       0.0       0.0        0.0        0.0   \n",
       "10765722   2022-12-31       0.0       0.0       0.0        0.0        0.0   \n",
       "10765737   2022-12-31       0.0       0.0       0.0        0.0        0.0   \n",
       "10765921   2022-12-31       1.0       0.0       0.0        0.0        0.0   \n",
       "\n",
       "                       ischain  type_takeout  type_resto  type_foodcourt  \\\n",
       "Unnamed: 0 Unnamed: 1                                                      \n",
       "1222579    2003-12-31        0             1           0               0   \n",
       "           2004-12-31        0             1           0               0   \n",
       "           2005-12-31        0             1           0               0   \n",
       "           2006-12-31        0             1           0               0   \n",
       "           2007-12-31        0             1           0               0   \n",
       "...                        ...           ...         ...             ...   \n",
       "10765703   2022-12-31        0             0           1               0   \n",
       "10765721   2022-12-31        0             1           0               0   \n",
       "10765722   2022-12-31        0             1           0               0   \n",
       "10765737   2022-12-31        0             0           1               0   \n",
       "10765921   2022-12-31        0             1           0               0   \n",
       "\n",
       "                      kw_pho  ... kw_wing kw_thai kw_indian kw_japanese  \\\n",
       "Unnamed: 0 Unnamed: 1         ...                                         \n",
       "1222579    2003-12-31      0  ...       0       0         0           0   \n",
       "           2004-12-31      0  ...       0       0         0           0   \n",
       "           2005-12-31      0  ...       0       0         0           0   \n",
       "           2006-12-31      0  ...       0       0         0           0   \n",
       "           2007-12-31      0  ...       0       0         0           0   \n",
       "...                      ...  ...     ...     ...       ...         ...   \n",
       "10765703   2022-12-31      0  ...       0       0         0           0   \n",
       "10765721   2022-12-31      0  ...       0       0         0           0   \n",
       "10765722   2022-12-31      0  ...       0       0         0           0   \n",
       "10765737   2022-12-31      0  ...       0       0         0           0   \n",
       "10765921   2022-12-31      0  ...       0       0         0           0   \n",
       "\n",
       "                      kw_bagel kw_burrito kw_vegan kw_donut during_covid  \\\n",
       "Unnamed: 0 Unnamed: 1                                                      \n",
       "1222579    2003-12-31        0          0        0        0            0   \n",
       "           2004-12-31        0          0        0        0            0   \n",
       "           2005-12-31        0          0        0        0            0   \n",
       "           2006-12-31        0          0        0        0            0   \n",
       "           2007-12-31        0          0        0        0            0   \n",
       "...                        ...        ...      ...      ...          ...   \n",
       "10765703   2022-12-31        0          0        0        0            0   \n",
       "10765721   2022-12-31        0          0        0        0            0   \n",
       "10765722   2022-12-31        0          0        0        0            0   \n",
       "10765737   2022-12-31        0          0        0        0            0   \n",
       "10765921   2022-12-31        0          0        0        0            0   \n",
       "\n",
       "                      neighbours_within_buffer  \n",
       "Unnamed: 0 Unnamed: 1                           \n",
       "1222579    2003-12-31                      0.0  \n",
       "           2004-12-31                      0.0  \n",
       "           2005-12-31                      0.0  \n",
       "           2006-12-31                      0.0  \n",
       "           2007-12-31                      0.0  \n",
       "...                                        ...  \n",
       "10765703   2022-12-31                     10.0  \n",
       "10765721   2022-12-31                      6.0  \n",
       "10765722   2022-12-31                     16.0  \n",
       "10765737   2022-12-31                      0.0  \n",
       "10765921   2022-12-31                      1.0  \n",
       "\n",
       "[145982 rows x 32 columns]"
      ]
     },
     "execution_count": 19,
     "metadata": {},
     "output_type": "execute_result"
    }
   ],
   "source": [
    "model_scaled"
   ]
  },
  {
   "cell_type": "code",
   "execution_count": 20,
   "id": "57645f91-52d7-484e-bd69-30a53c6ed1b3",
   "metadata": {},
   "outputs": [
    {
     "name": "stdout",
     "output_type": "stream",
     "text": [
      "              precision    recall  f1-score   support\n",
      "\n",
      "           0       0.23      0.73      0.35     17687\n",
      "           1       0.91      0.53      0.67     91799\n",
      "\n",
      "    accuracy                           0.56    109486\n",
      "   macro avg       0.57      0.63      0.51    109486\n",
      "weighted avg       0.80      0.56      0.62    109486\n",
      "\n",
      "f_score = 0.6708103573933252\n"
     ]
    },
    {
     "name": "stderr",
     "output_type": "stream",
     "text": [
      "C:\\Users\\BrantZeeman\\anaconda3\\lib\\site-packages\\sklearn\\utils\\deprecation.py:87: FutureWarning: Function plot_confusion_matrix is deprecated; Function `plot_confusion_matrix` is deprecated in 1.0 and will be removed in 1.2. Use one of the class methods: ConfusionMatrixDisplay.from_predictions or ConfusionMatrixDisplay.from_estimator.\n",
      "  warnings.warn(msg, category=FutureWarning)\n"
     ]
    },
    {
     "data": {
      "image/png": "[encoded data removed]",
      "text/plain": [
       "<Figure size 432x288 with 2 Axes>"
      ]
     },
     "metadata": {
      "needs_background": "light"
     },
     "output_type": "display_data"
    }
   ],
   "source": [
    "print(classification_report(y_train, model.predict(X_train)))\n",
    "plot_confusion_matrix(model,X_train,y_train)\n",
    "print(f'f_score = {f1_score(y_train, model.predict(X_train))}')"
   ]
  },
  {
   "cell_type": "code",
   "execution_count": 1704,
   "id": "e3345a64-0f88-4617-8d89-2928666f02af",
   "metadata": {},
   "outputs": [
    {
     "data": {
      "text/plain": [
       "dict_keys(['C', 'class_weight', 'dual', 'fit_intercept', 'intercept_scaling', 'l1_ratio', 'max_iter', 'multi_class', 'n_jobs', 'penalty', 'random_state', 'solver', 'tol', 'verbose', 'warm_start'])"
      ]
     },
     "execution_count": 1704,
     "metadata": {},
     "output_type": "execute_result"
    }
   ],
   "source": [
    "model.get_params().keys()"
   ]
  },
  {
   "cell_type": "markdown",
   "id": "13273a41-5253-44b9-b7a3-e1f3790a86e0",
   "metadata": {},
   "source": [
    "# Hyperparameter Tuning"
   ]
  },
  {
   "cell_type": "code",
   "execution_count": null,
   "id": "a5514dc7-f254-4725-aa5a-192b4e03e991",
   "metadata": {},
   "outputs": [],
   "source": [
    "param_grid = [   \n",
    "    {\n",
    "    'penalty' : ['l2','none'],\n",
    "    'C' : np.logspace(-4, 4, 20),\n",
    "    'solver' : ['lbfgs'],\n",
    "    'max_iter' : [100, 1000,2500, 5000]\n",
    "    }\n",
    "]\n",
    "model2 = RandomizedSearchCV(model, param_distributions = param_grid, scoring='f1', n_iter=20, verbose=False)\n",
    "best_model = model2.fit(X_train,y_train)"
   ]
  },
  {
   "cell_type": "code",
   "execution_count": 1716,
   "id": "e23bd71f-9354-472c-96fb-e70ded375ddb",
   "metadata": {},
   "outputs": [
    {
     "data": {
      "text/plain": [
       "0.7928088568077893"
      ]
     },
     "execution_count": 1716,
     "metadata": {},
     "output_type": "execute_result"
    }
   ],
   "source": [
    "best_model.best_score_"
   ]
  },
  {
   "cell_type": "code",
   "execution_count": 1717,
   "id": "1f0d652e-4c9e-42e7-bbed-4a1259fe6a64",
   "metadata": {},
   "outputs": [
    {
     "name": "stdout",
     "output_type": "stream",
     "text": [
      "              precision    recall  f1-score   support\n",
      "\n",
      "           0       0.20      0.35      0.25     17687\n",
      "           1       0.85      0.74      0.79     91799\n",
      "\n",
      "    accuracy                           0.67    109486\n",
      "   macro avg       0.53      0.54      0.52    109486\n",
      "weighted avg       0.75      0.67      0.70    109486\n",
      "\n",
      "f_score = 0.7900146327187592\n"
     ]
    },
    {
     "name": "stderr",
     "output_type": "stream",
     "text": [
      "C:\\Users\\BrantZeeman\\anaconda3\\lib\\site-packages\\sklearn\\utils\\deprecation.py:87: FutureWarning: Function plot_confusion_matrix is deprecated; Function `plot_confusion_matrix` is deprecated in 1.0 and will be removed in 1.2. Use one of the class methods: ConfusionMatrixDisplay.from_predictions or ConfusionMatrixDisplay.from_estimator.\n",
      "  warnings.warn(msg, category=FutureWarning)\n"
     ]
    },
    {
     "data": {
      "image/png": "[encoded data removed]",
      "text/plain": [
       "<Figure size 432x288 with 2 Axes>"
      ]
     },
     "metadata": {
      "needs_background": "light"
     },
     "output_type": "display_data"
    }
   ],
   "source": [
    "print(classification_report(y_train, best_model.predict(X_train)))\n",
    "plot_confusion_matrix(best_model,X_train,y_train)\n",
    "print(f'f_score = {f1_score(y_train, best_model.predict(X_train))}')"
   ]
  },
  {
   "cell_type": "code",
   "execution_count": 22,
   "id": "3cd0dff1-2700-452f-9194-5d8a6d5b1ea7",
   "metadata": {},
   "outputs": [],
   "source": [
    "final_model = LogisticRegression(C=0.00026366508987303583, class_weight='balanced',\n",
    "                   max_iter=2500)"
   ]
  },
  {
   "cell_type": "code",
   "execution_count": 26,
   "id": "b6bfb7b9-f0e6-4d7d-baae-746a24073a7e",
   "metadata": {},
   "outputs": [
    {
     "name": "stdout",
     "output_type": "stream",
     "text": [
      "              precision    recall  f1-score   support\n",
      "\n",
      "           0       0.20      0.34      0.25      5833\n",
      "           1       0.85      0.74      0.79     30663\n",
      "\n",
      "    accuracy                           0.68     36496\n",
      "   macro avg       0.53      0.54      0.52     36496\n",
      "weighted avg       0.75      0.68      0.71     36496\n",
      "\n",
      "f_score = 0.7938542121344391\n"
     ]
    },
    {
     "name": "stderr",
     "output_type": "stream",
     "text": [
      "C:\\Users\\BrantZeeman\\anaconda3\\lib\\site-packages\\sklearn\\utils\\deprecation.py:87: FutureWarning: Function plot_confusion_matrix is deprecated; Function `plot_confusion_matrix` is deprecated in 1.0 and will be removed in 1.2. Use one of the class methods: ConfusionMatrixDisplay.from_predictions or ConfusionMatrixDisplay.from_estimator.\n",
      "  warnings.warn(msg, category=FutureWarning)\n"
     ]
    },
    {
     "data": {
      "image/png": "[encoded data removed]",
      "text/plain": [
       "<Figure size 432x288 with 2 Axes>"
      ]
     },
     "metadata": {
      "needs_background": "light"
     },
     "output_type": "display_data"
    }
   ],
   "source": [
    "final_model.fit(X_train,y_train)\n",
    "\n",
    "print(classification_report(y_test, final_model.predict(X_test)))\n",
    "plot_confusion_matrix(final_model,X_test,y_test)\n",
    "print(f'f_score = {f1_score(y_test, final_model.predict(X_test))}')"
   ]
  },
  {
   "cell_type": "code",
   "execution_count": 24,
   "id": "1fc88299-8404-4c45-b22d-2414273fd222",
   "metadata": {},
   "outputs": [
    {
     "data": {
      "text/plain": [
       "Index(['infr_sig', 'infr_min', 'infr_cru', 'stat_cond', 'stat_clos', 'ischain',\n",
       "       'type_takeout', 'type_resto', 'type_foodcourt', 'kw_pho', 'kw_shawarma',\n",
       "       'kw_pizza', 'kw_coffee', 'kw_grill', 'kw_burger', 'kw_sushi', 'kw_tea',\n",
       "       'kw_teriyaki', 'kw_fries', 'kw_wok', 'kw_chinese', 'kw_pub', 'kw_wing',\n",
       "       'kw_thai', 'kw_indian', 'kw_japanese', 'kw_bagel', 'kw_burrito',\n",
       "       'kw_vegan', 'kw_donut', 'during_covid', 'neighbours_within_buffer'],\n",
       "      dtype='object')"
      ]
     },
     "execution_count": 24,
     "metadata": {},
     "output_type": "execute_result"
    }
   ],
   "source": [
    "model_clean.drop(['ESTABLISHMENT_NAME','survive_1yr','survive_2yr'],axis=1).columns"
   ]
  },
  {
   "cell_type": "code",
   "execution_count": 25,
   "id": "ac3ba91b-cd0a-4bc8-bc14-5caa645d75d4",
   "metadata": {},
   "outputs": [
    {
     "data": {
      "text/plain": [
       "array([[ 1.20804997e-01,  2.02419420e-01,  2.65715454e-02,\n",
       "         8.74350400e-02,  1.50493711e-03,  2.69552244e-01,\n",
       "        -9.41477017e-02,  7.14532349e-02,  2.26995871e-02,\n",
       "         3.53397130e-03, -1.37713988e-02,  3.93963803e-02,\n",
       "         8.77904630e-05,  1.45274727e-02, -2.37404635e-02,\n",
       "        -6.01738907e-03, -2.49078122e-02,  2.98728525e-03,\n",
       "        -2.08277429e-03,  1.22354652e-02,  1.69696165e-02,\n",
       "         1.69032457e-02, -3.25276985e-03, -4.04332387e-03,\n",
       "        -5.25609536e-04,  1.03033338e-02,  1.76136893e-02,\n",
       "        -1.11611300e-02, -1.08595847e-03,  1.17507993e-02,\n",
       "         0.00000000e+00, -2.24333371e-02]])"
      ]
     },
     "execution_count": 25,
     "metadata": {},
     "output_type": "execute_result"
    }
   ],
   "source": [
    "final_model.coef_\n",
    "#highest weights are sig infractions, ischain, minor infractions, is takeout, is resto"
   ]
  },
  {
   "cell_type": "code",
   "execution_count": null,
   "id": "3a585757",
   "metadata": {},
   "outputs": [],
   "source": []
  }
 ],
 "metadata": {
  "kernelspec": {
   "display_name": "Python 3 (ipykernel)",
   "language": "python",
   "name": "python3"
  },
  "language_info": {
   "codemirror_mode": {
    "name": "ipython",
    "version": 3
   },
   "file_extension": ".py",
   "mimetype": "text/x-python",
   "name": "python",
   "nbconvert_exporter": "python",
   "pygments_lexer": "ipython3",
   "version": "3.9.12"
  }
 },
 "nbformat": 4,
 "nbformat_minor": 5
}
